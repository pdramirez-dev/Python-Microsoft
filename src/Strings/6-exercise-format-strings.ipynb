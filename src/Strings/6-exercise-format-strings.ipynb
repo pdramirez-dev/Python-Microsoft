{
  "cells": [
    {
      "cell_type": "code",
      "execution_count": null,
      "metadata": {},
      "outputs": [],
      "source": []
    },
    {
      "cell_type": "markdown",
      "metadata": {},
      "source": [
        "# Exercise: Formatting strings\n",
        "\n",
        "Knowing how to format strings is essential when you're presenting information from a program. There are a few different ways to accomplish this in Python. In this exercise, you use variables that hold key facts about gravity on various moons and then use them to format and print the information.\n",
        "\n",
        "This exercise is broken into a series of steps. For each step you will be presented with the goal for the step, followed by an empty cell. Enter your Python into the cell and run it. The solution for each step will follow each cell.\n",
        "\n",
        "## Create the variables\n",
        "\n",
        "Start by creating three variables, `name`, `gravity`, and `planet`, and set them to the following values:\n",
        "\n",
        "```\n",
        "name: Ganymede\n",
        "planet: Mars\n",
        "gravity: 1.43\n",
        "```"
      ]
    },
    {
      "cell_type": "code",
      "execution_count": 4,
      "metadata": {},
      "outputs": [],
      "source": [
        "# Enter code below\n",
        "name = \"Ganymede\"\n",
        "planet = \"Mars\"\n",
        "gravity = '1.43'"
      ]
    },
    {
      "cell_type": "markdown",
      "metadata": {},
      "source": [
        "Your code should look like the following:\n",
        "\n",
        "```python\n",
        "name = 'Ganymede'\n",
        "planet = 'Mars'\n",
        "gravity = '1.43'\n",
        "```"
      ]
    },
    {
      "cell_type": "markdown",
      "metadata": {},
      "source": [
        "## Create the template\n",
        "\n",
        "Now you will create the template to display the information about the moon. You want the output to look like the following:\n",
        "\n",
        "```\n",
        "Gravity Facts about {name}\n",
        "--------------------------\n",
        "Planet Name: {planet}\n",
        "Gravity on {name}: {gravity} m/s2\n",
        "```\n",
        "\n",
        "Create a variable named `template`, and set it to the template you create."
      ]
    },
    {
      "cell_type": "code",
      "execution_count": 5,
      "metadata": {},
      "outputs": [],
      "source": [
        "# Enter code below\n",
        "template = \"\"\" Gravity Facts about {name}\n",
        "----------------------------------------\n",
        "Planet Name: {planet}\n",
        "Gravity on {name}: {gravity} m/s2\"\"\""
      ]
    },
    {
      "cell_type": "markdown",
      "metadata": {},
      "source": [
        "Your code should look like the following:\n",
        "\n",
        "```python\n",
        "template = \"\"\"Gravity Facts about {name}\n",
        "----------------------------------------\n",
        "Planet Name: {planet}\n",
        "Gravity on {name}: {gravity} m/s2\"\"\"\n",
        "```"
      ]
    },
    {
      "cell_type": "markdown",
      "metadata": {},
      "source": [
        "## Use the template\n",
        "\n",
        "With the template created, it's time to use it to display information about the moon! Use the `format` function on `template` to use the template and `print` the information. Set `name`, `planet`, and `gravity` to the appropriate values."
      ]
    },
    {
      "cell_type": "code",
      "execution_count": 6,
      "metadata": {},
      "outputs": [
        {
          "name": "stdout",
          "output_type": "stream",
          "text": [
            " Gravity Facts about Ganymede\n",
            "----------------------------------------\n",
            "Planet Name: Mars\n",
            "Gravity on Ganymede: 1.43 m/s2\n"
          ]
        }
      ],
      "source": [
        "# Enter code below\n",
        "print(template.format(name=name,planet= planet,gravity=gravity))"
      ]
    },
    {
      "cell_type": "markdown",
      "metadata": {},
      "source": [
        "Your code should look like the following:\n",
        "\n",
        "```python\n",
        "print(template.format(name=name, planet=planet, gravity=gravity))\n",
        "```\n",
        "\n",
        "## Desired output\n",
        "\n",
        "When run, the result should look like the following:\n",
        "\n",
        "```\n",
        "Gravity Facts about Ganymede\n",
        "--------------------------\n",
        "Planet Name: Mars\n",
        "Gravity on Ganymede: 1.43 m/s2\n",
        "```"
      ]
    }
  ],
  "metadata": {
    "kernel_info": {
      "name": "conda-env-py38_default-py"
    },
    "kernelspec": {
      "display_name": "base",
      "language": "python",
      "name": "python3"
    },
    "language_info": {
      "codemirror_mode": {
        "name": "ipython",
        "version": 3
      },
      "file_extension": ".py",
      "mimetype": "text/x-python",
      "name": "python",
      "nbconvert_exporter": "python",
      "pygments_lexer": "ipython3",
      "version": "3.9.13"
    },
    "nteract": {
      "version": "nteract-front-end@1.0.0"
    },
    "orig_nbformat": 4
  },
  "nbformat": 4,
  "nbformat_minor": 2
}

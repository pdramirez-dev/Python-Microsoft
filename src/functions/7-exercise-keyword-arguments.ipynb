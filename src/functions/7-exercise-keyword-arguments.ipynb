{
  "cells": [
    {
      "cell_type": "markdown",
      "source": [
        "# Exercise: Work with keyword arguments in functions\n",
        "\n",
        "In the prior exercise you created a report for a ship with three fuel tanks. What happens if the ship has multiple tanks? Keyword arguments can be a perfect solution for this type of a situation. With keyword arguments a caller can provide multiple values which your code can interact with.\n",
        "\n",
        "This exercise is broken into a series of steps. For each step you will be presented with the goal for the step, followed by an empty cell. Enter your Python into the cell and run it. The solution for each step will follow each cell.\n",
        "\n",
        "## Create an updated fuel report function\n",
        "\n",
        "Create a new function named `fuel_report`. The function will accept a keyword arguments parameter named `fuel_tanks`. Add the code to loop through the entries provided to generate the following output, where `name` is the name of the keyword argument and `value` is the value:\n",
        "\n",
        "```\n",
        "name: value\n",
        "name: value\n",
        "```"
      ],
      "metadata": {}
    },
    {
      "cell_type": "code",
      "source": [
        "# Enter code below"
      ],
      "outputs": [],
      "execution_count": null,
      "metadata": {}
    },
    {
      "cell_type": "markdown",
      "source": [
        "Your code should look like the following. Note that there are numerous ways to concatenate strings, so yours may vary.\n",
        "\n",
        "```python\n",
        "def fuel_report(**fuel_tanks):\n",
        "    for name, value in fuel_tanks.items():\n",
        "        print(f'{name}: {value}')\n",
        "```"
      ],
      "metadata": {}
    },
    {
      "cell_type": "markdown",
      "source": [
        "## Call the function\n",
        "\n",
        "With the function created, it's time to call it! Pass in the following values for the keyword arguments:\n",
        "\n",
        "```\n",
        "main = 50\n",
        "external = 100\n",
        "emergency = 60\n",
        "```"
      ],
      "metadata": {}
    },
    {
      "cell_type": "code",
      "source": [
        "# Enter code below"
      ],
      "outputs": [],
      "execution_count": null,
      "metadata": {}
    },
    {
      "cell_type": "markdown",
      "source": [
        "Your code should look like the following:\n",
        "\n",
        "```python\n",
        "fuel_report(main=50, external=100, emergency=60)\n",
        "```\n",
        "\n",
        "## Desired output\n",
        "\n",
        "When run, the result should look like the following:\n",
        "\n",
        "```\n",
        "main: 50\n",
        "external: 100\n",
        "emergency: 60\n",
        "```"
      ],
      "metadata": {}
    }
  ],
  "metadata": {
    "interpreter": {
      "hash": "205095b8b86ea82a021a8fc2ffba2b3bc9f8d0be25999901963b225939f75778"
    },
    "kernelspec": {
      "display_name": "Python 3.8.10 64-bit ('tmp': conda)",
      "name": "conda-env-py38_default-py"
    },
    "language_info": {
      "codemirror_mode": {
        "name": "ipython",
        "version": 3
      },
      "file_extension": ".py",
      "mimetype": "text/x-python",
      "name": "python",
      "nbconvert_exporter": "python",
      "pygments_lexer": "ipython3",
      "version": "3.8.10"
    },
    "orig_nbformat": 4,
    "nteract": {
      "version": "nteract-front-end@1.0.0"
    }
  },
  "nbformat": 4,
  "nbformat_minor": 2
}
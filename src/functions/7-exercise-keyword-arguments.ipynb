{
  "cells": [
    {
      "cell_type": "markdown",
      "metadata": {},
      "source": [
        "# Exercise: Work with keyword arguments in functions\n",
        "\n",
        "In the prior exercise you created a report for a ship with three fuel tanks. What happens if the ship has multiple tanks? Keyword arguments can be a perfect solution for this type of a situation. With keyword arguments a caller can provide multiple values which your code can interact with.\n",
        "\n",
        "This exercise is broken into a series of steps. For each step you will be presented with the goal for the step, followed by an empty cell. Enter your Python into the cell and run it. The solution for each step will follow each cell.\n",
        "\n",
        "## Create an updated fuel report function\n",
        "\n",
        "Create a new function named `fuel_report`. The function will accept a keyword arguments parameter named `fuel_tanks`. Add the code to loop through the entries provided to generate the following output, where `name` is the name of the keyword argument and `value` is the value:\n",
        "\n",
        "```\n",
        "name: value\n",
        "name: value\n",
        "```"
      ]
    },
    {
      "cell_type": "code",
      "execution_count": 1,
      "metadata": {},
      "outputs": [],
      "source": [
        "# Enter code below\n",
        "def fuel_report(**fuel_tanks):\n",
        "    for name,value in fuel_tanks.items():\n",
        "        print(f'{name}:{value}')"
      ]
    },
    {
      "cell_type": "markdown",
      "metadata": {},
      "source": [
        "Your code should look like the following. Note that there are numerous ways to concatenate strings, so yours may vary.\n",
        "\n",
        "```python\n",
        "def fuel_report(**fuel_tanks):\n",
        "    for name, value in fuel_tanks.items():\n",
        "        print(f'{name}: {value}')\n",
        "```"
      ]
    },
    {
      "cell_type": "markdown",
      "metadata": {},
      "source": [
        "## Call the function\n",
        "\n",
        "With the function created, it's time to call it! Pass in the following values for the keyword arguments:\n",
        "\n",
        "```\n",
        "main = 50\n",
        "external = 100\n",
        "emergency = 60\n",
        "```"
      ]
    },
    {
      "cell_type": "code",
      "execution_count": 2,
      "metadata": {},
      "outputs": [
        {
          "name": "stdout",
          "output_type": "stream",
          "text": [
            "main:50\n",
            "external:100\n",
            "emergency:60\n"
          ]
        }
      ],
      "source": [
        "# Enter code below\n",
        "fuel_report(main=50,external=100,emergency=60)"
      ]
    },
    {
      "cell_type": "markdown",
      "metadata": {},
      "source": [
        "Your code should look like the following:\n",
        "\n",
        "```python\n",
        "fuel_report(main=50, external=100, emergency=60)\n",
        "```\n",
        "\n",
        "## Desired output\n",
        "\n",
        "When run, the result should look like the following:\n",
        "\n",
        "```\n",
        "main: 50\n",
        "external: 100\n",
        "emergency: 60\n",
        "```"
      ]
    }
  ],
  "metadata": {
    "kernelspec": {
      "display_name": "base",
      "language": "python",
      "name": "python3"
    },
    "language_info": {
      "codemirror_mode": {
        "name": "ipython",
        "version": 3
      },
      "file_extension": ".py",
      "mimetype": "text/x-python",
      "name": "python",
      "nbconvert_exporter": "python",
      "pygments_lexer": "ipython3",
      "version": "3.9.13"
    },
    "nteract": {
      "version": "nteract-front-end@1.0.0"
    },
    "orig_nbformat": 4
  },
  "nbformat": 4,
  "nbformat_minor": 2
}

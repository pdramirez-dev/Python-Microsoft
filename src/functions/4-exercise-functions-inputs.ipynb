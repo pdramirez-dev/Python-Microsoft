{
  "cells": [
    {
      "cell_type": "markdown",
      "source": [
        "# Exercise: Work with arguments in functions\n",
        "\n",
        "Required arguments in functions are used when functions need those arguments to work properly. In this exercise, you'll construct a fuel report that requires information from several fuel locations throughout the rocket ship.\n",
        "\n",
        "This exercise is broken into a series of steps. For each step you will be presented with the goal for the step, followed by an empty cell. Enter your Python into the cell and run it. The solution for each step will follow each cell.\n",
        "\n",
        "## Create a report generation function\n",
        "\n",
        "Your spaceship has three tanks: Main, External and Hydrogen. You want to create an app to display the amount of fuel in each tank, and the average amount of fuel between the three tanks. Because you wish to reuse this code in other projects, you want to create a function with the logic.\n",
        "\n",
        "Create a function named `generate_report`. The function will take three parameters named `main_tank`, `external_tank` and `hydrogen_tank`. When run, the function will display output which resembles the following:\n",
        "\n",
        "```\n",
        "Fuel report:\n",
        "    Main tank: ##\n",
        "    External tank: ##\n",
        "    Hydrogen tank: ##\n",
        "```"
      ],
      "metadata": {}
    },
    {
      "cell_type": "code",
      "source": [
        "# Enter code below"
      ],
      "outputs": [],
      "execution_count": null,
      "metadata": {}
    },
    {
      "cell_type": "markdown",
      "source": [
        "Your code should resemble the following. Note there are numerous ways to generate the string.\n",
        "\n",
        "```python\n",
        "def generate_report(main_tank, external_tank, hydrogen_tank):\n",
        "    output = f\"\"\"Fuel Report:\n",
        "    Main tank: {main_tank}\n",
        "    External tank: {external_tank}\n",
        "    Hydrogen tank: {hydrogen_tank} \n",
        "    \"\"\"\n",
        "    print(output)\n",
        "```"
      ],
      "metadata": {}
    },
    {
      "cell_type": "markdown",
      "source": [
        "## Run the function\n",
        "\n",
        "With the function created, add the code to run the function with the following values:\n",
        "\n",
        "```\n",
        "Main tank: 80\n",
        "External tank: 70\n",
        "Hydrogen tank: 75\n",
        "```"
      ],
      "metadata": {}
    },
    {
      "cell_type": "code",
      "source": [
        "# Enter code below:"
      ],
      "outputs": [],
      "execution_count": null,
      "metadata": {}
    },
    {
      "cell_type": "markdown",
      "source": [
        "Your code should look like the following:\n",
        "\n",
        "```python\n",
        "generate_report(80, 70, 75)\n",
        "```\n",
        "\n",
        "## Desired output\n",
        "\n",
        "The output when run should look like this:\n",
        "\n",
        "```\n",
        "Fuel Report:\n",
        "    Main tank: 80\n",
        "    External tank: 70\n",
        "    Hydrogen tank: 75\n",
        "```"
      ],
      "metadata": {}
    }
  ],
  "metadata": {
    "interpreter": {
      "hash": "205095b8b86ea82a021a8fc2ffba2b3bc9f8d0be25999901963b225939f75778"
    },
    "kernelspec": {
      "display_name": "Python 3.8.10 64-bit ('tmp': conda)",
      "name": "conda-env-py38_default-py"
    },
    "language_info": {
      "codemirror_mode": {
        "name": "ipython",
        "version": 3
      },
      "file_extension": ".py",
      "mimetype": "text/x-python",
      "name": "python",
      "nbconvert_exporter": "python",
      "pygments_lexer": "ipython3",
      "version": "3.8.10"
    },
    "orig_nbformat": 4,
    "nteract": {
      "version": "nteract-front-end@1.0.0"
    }
  },
  "nbformat": 4,
  "nbformat_minor": 2
}
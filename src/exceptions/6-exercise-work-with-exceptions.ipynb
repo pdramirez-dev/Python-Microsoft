{
  "cells": [
    {
      "cell_type": "markdown",
      "metadata": {},
      "source": [
        "# Exercise: Raise exceptions\n",
        "\n",
        "Exceptions allow a few patterns when they're used effectively. In this exercise, you'll ignore certain exceptions and fix problems where exceptions weren't used. Finally, you'll make a multiple-function program work better by handling exceptions and making decisions based on errors.\n",
        "\n",
        "This exercise is broken into a series of steps. For each step you will be presented with the goal for the step, followed by an empty cell. Enter your Python into the cell and run it. The solution for each step will follow each cell.\n",
        "\n",
        "## Creating a utility to convert strings to boolean values\n",
        "\n",
        "Imagine you are creating a program which will prompt the user for yes or no, which will be converted true or false. Because people will enter different values, you need to ensure the different possibilities are handled correctly. If an unknown response is given, the program should raise an error.\n",
        "\n",
        "For purposes of this exercise, you'll use the values below for true and false. Run the cell to load the variables."
      ]
    },
    {
      "cell_type": "code",
      "execution_count": 1,
      "metadata": {},
      "outputs": [],
      "source": [
        "true_values = ['yes', 'y']\n",
        "false_values = ['no', 'n']"
      ]
    },
    {
      "cell_type": "markdown",
      "metadata": {},
      "source": [
        "## Create the function to test for true or false\n",
        "\n",
        "You will use `true_values` and `false_values` to create a function named `str_to_bool` to convert strings to Boolean values. `str_to_bool` will accept one parameter named `value`.\n",
        "\n",
        "Create the function `str_to_bool`. Convert `value` to lower case letters. If `value` matches an entry in `true_values` the function should return `True`. If `value` matches an entry in `false_values` it should return `False`. If it doesn't match any of the values, it should raise a `ValueError`, with a message of **Invalid entry**."
      ]
    },
    {
      "cell_type": "code",
      "execution_count": 2,
      "metadata": {},
      "outputs": [],
      "source": [
        "# Enter code below\n",
        "def str_to_bool(value):\n",
        "    value = value.lower()\n",
        "    if value in true_values:\n",
        "        return True\n",
        "    elif value in false_values:\n",
        "        return False\n",
        "    else:\n",
        "        raise ValueError('Invalid entry')"
      ]
    },
    {
      "cell_type": "markdown",
      "metadata": {},
      "source": [
        "Your code should resemble the following:\n",
        "\n",
        "```python\n",
        "def str_to_bool(value):\n",
        "    value = value.lower()\n",
        "    if value in true_values:\n",
        "        return True\n",
        "    elif value in false_values:\n",
        "        return False\n",
        "    else:\n",
        "        raise ValueError('Invalid entry')\n",
        "```\n",
        "\n",
        "## Desired output\n",
        "\n",
        "In the cell below, call `str_to_bool` with different values. When you use **y** or **yes** it should display `True`. When you use **n** or **no** it should display `False`. For any other value an error should be raised."
      ]
    },
    {
      "cell_type": "code",
      "execution_count": 4,
      "metadata": {},
      "outputs": [
        {
          "data": {
            "text/plain": [
              "True"
            ]
          },
          "execution_count": 4,
          "metadata": {},
          "output_type": "execute_result"
        }
      ],
      "source": [
        "# Test function here\n",
        "str_to_bool('yes')"
      ]
    }
  ],
  "metadata": {
    "kernelspec": {
      "display_name": "base",
      "language": "python",
      "name": "python3"
    },
    "language_info": {
      "codemirror_mode": {
        "name": "ipython",
        "version": 3
      },
      "file_extension": ".py",
      "mimetype": "text/x-python",
      "name": "python",
      "nbconvert_exporter": "python",
      "pygments_lexer": "ipython3",
      "version": "3.9.13"
    },
    "nteract": {
      "version": "nteract-front-end@1.0.0"
    },
    "orig_nbformat": 4
  },
  "nbformat": 4,
  "nbformat_minor": 2
}

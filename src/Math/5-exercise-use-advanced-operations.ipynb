{
  "cells": [
    {
      "cell_type": "markdown",
      "metadata": {},
      "source": [
        "# Create an application to work with numbers and user input\n",
        "\n",
        "You'll frequently need to convert string values into numbers to properly perform different operations, or determine the absolute value of a number. In this exercise, you will create a project to calculate the distance between two planets based on user input.\n",
        "\n",
        "This exercise is broken into a series of steps. For each step you will be presented with the goal for the step, followed by an empty cell. Enter your Python into the cell and run it. The solution for each step will follow each cell.\n",
        "\n",
        "## Read the values from the user\n",
        "\n",
        "To create our application, we want to read the distance from the sun for two planets, and then display the distance between the planets. We'll do this by using `input` to read the values, `int` to convert to integer, and then `abs` to convert the result into its absolute value.\n",
        "\n",
        "Start by adding the code to prompt the user for the distance between the sun and the first planet, and then the second. Store each result in variables named `first_planet_input` and `second_planet_input`."
      ]
    },
    {
      "cell_type": "code",
      "execution_count": 1,
      "metadata": {},
      "outputs": [],
      "source": [
        "# Enter code below\n",
        "first_planet_input = input('Enter the distance from sun for the first planet in KM')\n",
        "second_planet_input = input('Enter the distance from the sun for the second planet in KM')"
      ]
    },
    {
      "cell_type": "markdown",
      "metadata": {},
      "source": [
        "Your code should resemble the following\n",
        "\n",
        "```python\n",
        "first_planet_input = input('Enter the distance from the sun for the first planet in KM')\n",
        "second_planet_input = input('Enter the distance from the sun for the second planet in KM')\n",
        "```"
      ]
    },
    {
      "cell_type": "markdown",
      "metadata": {},
      "source": [
        "# Convert to number\n",
        "\n",
        "Because `input` returns string values, we need to convert them to numbers. Add the code to convert each input into an integer using `int`. Store the values in `first_planet` and `second_planet` respectively."
      ]
    },
    {
      "cell_type": "code",
      "execution_count": 2,
      "metadata": {},
      "outputs": [],
      "source": [
        "# Enter code below\n",
        "first_planet = int(first_planet_input)\n",
        "second_planet = int(second_planet_input)"
      ]
    },
    {
      "cell_type": "markdown",
      "metadata": {},
      "source": [
        "Your code should resemble the following:\n",
        "\n",
        "```python\n",
        "first_planet = int(first_planet_input)\n",
        "second_planet = int(second_planet_input)\n",
        "```"
      ]
    },
    {
      "cell_type": "markdown",
      "metadata": {},
      "source": [
        "# Perform the calculation and convert to absolute value\n",
        "\n",
        "With your values stored as numbers, you can now add the code to perform the calculation, subtracting the first planet from the second. Because the second planet might be a greater number, you'll use `abs` to convert it to an absolute value.\n",
        "\n",
        "Subtract `first_planet` from `second_planet` and convert the result to its absolute value by using `abs`. Store the result in a variable named `distance_km`. Then display the result on the screen."
      ]
    },
    {
      "cell_type": "code",
      "execution_count": null,
      "metadata": {},
      "outputs": [],
      "source": [
        "# Enter code below\n",
        "distance_km = second_planet - first_planet\n",
        "print(abs(distance_km))"
      ]
    },
    {
      "cell_type": "markdown",
      "metadata": {},
      "source": [
        "Your code should resemble the following:\n",
        "\n",
        "```python\n",
        "distance_km = second_planet - first_planet\n",
        "print(abs(distance_km))\n",
        "```"
      ]
    },
    {
      "cell_type": "markdown",
      "metadata": {},
      "source": [
        "# Test your application\n",
        "\n",
        "To test your project, run the notebook. You'll be prompted in a dialog to provide the distances. You can use the ones from the following table:\n",
        "\n",
        "| Planet  | Distance from sun |\n",
        "| ------- | ----------------- |\n",
        "| Mercury | 57900000          |\n",
        "| Venus   | 108200000         |\n",
        "| Earth   | 149600000         |\n",
        "| Mars    | 227900000         |\n",
        "| Jupiter | 778600000         |\n",
        "| Saturn  | 1433500000        |\n",
        "| Uranus  | 2872500000        |\n",
        "| Neptune | 4495100000        |"
      ]
    }
  ],
  "metadata": {
    "interpreter": {
      "hash": "916dbcbb3f70747c44a77c7bcd40155683ae19c65e1c03b4aa3499c5328201f1"
    },
    "kernel_info": {
      "name": "conda-env-py38_default-py"
    },
    "kernelspec": {
      "display_name": "py38_default",
      "language": "python",
      "name": "conda-env-py38_default-py"
    },
    "language_info": {
      "codemirror_mode": {
        "name": "ipython",
        "version": 3
      },
      "file_extension": ".py",
      "mimetype": "text/x-python",
      "name": "python",
      "nbconvert_exporter": "python",
      "pygments_lexer": "ipython3",
      "version": "3.8.10"
    },
    "nteract": {
      "version": "nteract-front-end@1.0.0"
    },
    "orig_nbformat": 4
  },
  "nbformat": 4,
  "nbformat_minor": 2
}

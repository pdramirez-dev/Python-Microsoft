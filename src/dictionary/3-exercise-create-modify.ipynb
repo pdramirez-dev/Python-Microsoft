{
  "cells": [
    {
      "cell_type": "markdown",
      "metadata": {},
      "source": [
        "# Exercise: Create and modify a Python dictionary\n",
        "\n",
        "Python dictionaries allow you to model more complex data. Dictionaries are a collection of key/value pairs, and are very common in Python programs. Their flexibility allows you to dynamically work with related values without having to create classes or objects.\n",
        "\n",
        "This exercise is broken into a series of steps. For each step you will be presented with the goal for the step, followed by an empty cell. Enter your Python into the cell and run it. The solution for each step will follow each cell.\n",
        "\n",
        "## Managing planet data\n",
        "\n",
        "You want to create a program which will store and display information about planets. To start you will use one planet. Create a variable named `planet`. Store the following values as a dictionary:\n",
        "\n",
        "```\n",
        "name: Mars\n",
        "moons: 2\n",
        "```"
      ]
    },
    {
      "cell_type": "code",
      "execution_count": 4,
      "metadata": {},
      "outputs": [],
      "source": [
        "# Enter code below\n",
        "planet = {\n",
        "    'name': 'Mars',\n",
        "    'moons': 2\n",
        "}"
      ]
    },
    {
      "cell_type": "markdown",
      "metadata": {},
      "source": [
        "Your code should look like the following:\n",
        "\n",
        "```python\n",
        "planet = {\n",
        "    'name': 'Mars',\n",
        "    'moons': 2\n",
        "}\n",
        "```\n",
        "\n",
        "## Display planet data\n",
        "\n",
        "With the variable created, you will now display information. You can retrieve information by either using `get` or square brackets (`[ ]`) and the key name. Add the code to display the planet information in the following format:\n",
        "\n",
        "**__ has __ moon(s)**\n",
        "\n",
        "If you were working with Earth, the output would be **Earth has 1 moon(s)**\n",
        "\n",
        "> **Note:** You can use whatever string formatting option you like"
      ]
    },
    {
      "cell_type": "code",
      "execution_count": 5,
      "metadata": {},
      "outputs": [
        {
          "name": "stdout",
          "output_type": "stream",
          "text": [
            "Mars has 2 moon(S)\n"
          ]
        }
      ],
      "source": [
        "# Enter code below\n",
        "print(f'{planet[\"name\"]} has {planet[\"moons\"]} moon(S)')"
      ]
    },
    {
      "cell_type": "markdown",
      "metadata": {},
      "source": [
        "Your code should look like the following:\n",
        "\n",
        "```python\n",
        "print(f'{planet[\"name\"]} has {planet[\"moons\"]} moon(s)')\n",
        "```\n",
        "\n",
        "## Desired output\n",
        "\n",
        "When you run the cell you should see the following result:\n",
        "\n",
        "```\n",
        "Mars has 2 moon(s)"
      ]
    },
    {
      "cell_type": "markdown",
      "metadata": {},
      "source": [
        "## Add circumference information\n",
        "\n",
        "You can update existing keys or create new ones by either using the `update` method or using square brackets (`[ ]`). When you're using `update`, you pass in a new dictionary object with the updated or new values. When using square brackets, you specify the key name and assign a new value.\n",
        "\n",
        "Add a new value to `planet` with a key of `'circumference (km)'`. This new value should store a dictionary with the planet's two circumferences:\n",
        "\n",
        "```\n",
        "polar: 6752\n",
        "equatorial: 6792\n",
        "```\n",
        "\n",
        "Finally, add the code to print the polar circumference of the planet. You can use whatever sentence formatting you wish."
      ]
    },
    {
      "cell_type": "code",
      "execution_count": 6,
      "metadata": {},
      "outputs": [
        {
          "name": "stdout",
          "output_type": "stream",
          "text": [
            "Mars has a polar circunfernece of 6752\n"
          ]
        }
      ],
      "source": [
        "# Enter code below\n",
        "planet['circunference (km)'] = {\n",
        "    'polar':6752,\n",
        "    'equtorial':6792\n",
        "}\n",
        "\n",
        "print(f'{planet[\"name\"]} has a polar circunfernece of {planet[\"circunference (km)\"][\"polar\"]}')"
      ]
    },
    {
      "cell_type": "markdown",
      "metadata": {},
      "source": [
        "Your code should look like the following:\n",
        "\n",
        "```python\n",
        "planet['circumference (km)'] = {\n",
        "    'polar': 6752,\n",
        "    'equatorial': 6792\n",
        "}\n",
        "\n",
        "print(f'{planet[\"name\"]} has a polar circumference of {planet[\"circumference (km)\"][\"polar\"]}')\n",
        "```\n",
        "\n",
        "## Desired output\n",
        "\n",
        "When you run the cell you should see the following result:\n",
        "\n",
        "```\n",
        "Mars has a polar circumference of 6752"
      ]
    }
  ],
  "metadata": {
    "kernelspec": {
      "display_name": "base",
      "language": "python",
      "name": "python3"
    },
    "language_info": {
      "codemirror_mode": {
        "name": "ipython",
        "version": 3
      },
      "file_extension": ".py",
      "mimetype": "text/x-python",
      "name": "python",
      "nbconvert_exporter": "python",
      "pygments_lexer": "ipython3",
      "version": "3.9.13"
    },
    "nteract": {
      "version": "nteract-front-end@1.0.0"
    },
    "orig_nbformat": 4
  },
  "nbformat": 4,
  "nbformat_minor": 2
}

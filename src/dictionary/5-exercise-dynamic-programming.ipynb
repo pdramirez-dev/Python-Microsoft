{
  "cells": [
    {
      "cell_type": "markdown",
      "metadata": {},
      "source": [
        "# Calculating values\n",
        "\n",
        "In this scenario, you will calculate both the total number of moons in the solar system and the average number of moons a planet has. You will do this by using a dictionary object.\n",
        "\n",
        "This exercise is broken into a series of steps. For each step you will be presented with the goal for the step, followed by an empty cell. Enter your Python into the cell and run it. The solution for each step will follow each cell.\n",
        "\n",
        "Start by creating a variable named `planet_moons` as a dictionary with the following key/values:\n",
        "\n",
        "```\n",
        "mercury: 0,\n",
        "venus: 0,\n",
        "earth: 1,\n",
        "mars: 2,\n",
        "jupiter: 79,\n",
        "saturn: 82,\n",
        "uranus: 27,\n",
        "neptune: 14,\n",
        "pluto: 5,\n",
        "haumea: 2,\n",
        "makemake: 1,\n",
        "eris: 1\n",
        "```"
      ]
    },
    {
      "cell_type": "code",
      "execution_count": null,
      "metadata": {},
      "outputs": [],
      "source": [
        "# Enter the code below\n",
        "planet_moons = {\n",
        "    'mecury':0,'venus':0,'earth':1,'mars':2,'jupyter':79,'saturn':82,'uranus':27,'neptune': 14 , 'pluto':5,'humea':2,'makemake': 1,'eris':1\n",
        "}"
      ]
    },
    {
      "cell_type": "markdown",
      "metadata": {},
      "source": [
        "Your code should look like the following:\n",
        "\n",
        "```python\n",
        "planet_moons = {\n",
        "    'mercury': 0,\n",
        "    'venus': 0,\n",
        "    'earth': 1,\n",
        "    'mars': 2,\n",
        "    'jupiter': 79,\n",
        "    'saturn': 82,\n",
        "    'uranus': 27,\n",
        "    'neptune': 14,\n",
        "    'pluto': 5,\n",
        "    'haumea': 2,\n",
        "    'makemake': 1,\n",
        "    'eris': 1\n",
        "}\n",
        "```"
      ]
    },
    {
      "cell_type": "markdown",
      "metadata": {},
      "source": [
        "## Obtain a list of moons and number of planets\n",
        "\n",
        "Python dictionaries allow you to retrieve all the values and keys by using the `values` and `keys` methods, respectively. Each method returns a list containing the data, which can then be used like a regular Python list. You can determine the number of items by using `len`, and iterate through it by using `for` loops. In the dictionary you created, the planet names are keys and the number of moons are the values.\n",
        "\n",
        "Start by retrieving a list with the number of moons, and store this in a variable named `moons`. Then obtain the total number of planets and store that value in a variable named `total_planets`."
      ]
    },
    {
      "cell_type": "code",
      "execution_count": null,
      "metadata": {},
      "outputs": [],
      "source": [
        "# Enter code below\n",
        "moons = planet_moons.values()\n",
        "total_planets = len(planet_moons.keys())"
      ]
    },
    {
      "cell_type": "markdown",
      "metadata": {},
      "source": [
        "Your code should look like the following:\n",
        "\n",
        "```python\n",
        "moons = planet_moons.values()\n",
        "total_planets = len(planet_moons.keys())\n",
        "```"
      ]
    },
    {
      "cell_type": "markdown",
      "metadata": {},
      "source": [
        "## Determine the average number of moons\n",
        "\n",
        "You will finish this exercise by determining the average number of moons. Start by creating a variable named `total_moons`; this will be your counter for the total number of moons. Then add a `for` loop to loop through the list of `moons`, adding each value to `total_moons`. Finally, calculate the average by dividing `total_moons` by `total_planets` and displaying the value."
      ]
    },
    {
      "cell_type": "code",
      "execution_count": null,
      "metadata": {},
      "outputs": [],
      "source": [
        "# Enter code below\n",
        "total_moons = 0\n",
        "for moon in moons:\n",
        "    total_moons = total_moons +moon\n",
        "\n",
        "average = total_moons / total_planets"
      ]
    },
    {
      "cell_type": "markdown",
      "metadata": {},
      "source": [
        "Your code should look like the following:\n",
        "\n",
        "```python\n",
        "total_moons = 0\n",
        "for moon in moons:\n",
        "    total_moons = total_moons + moon\n",
        "\n",
        "average = total_moons / total_planets\n",
        "\n",
        "print(f'Each planet has an average of {average} moons')\n",
        "````\n",
        "\n",
        "## Desired output\n",
        "\n",
        "When you run the notebook you should see the following result:\n",
        "\n",
        "```\n",
        "Each planet has an average of 17.833333333333332 moons\n",
        "```"
      ]
    }
  ],
  "metadata": {
    "kernelspec": {
      "display_name": "Python 3.10.2 64-bit",
      "language": "python",
      "name": "python3"
    },
    "language_info": {
      "codemirror_mode": {
        "name": "ipython",
        "version": 3
      },
      "file_extension": ".py",
      "mimetype": "text/x-python",
      "name": "python",
      "nbconvert_exporter": "python",
      "pygments_lexer": "ipython3",
      "version": "3.9.13"
    },
    "nteract": {
      "version": "nteract-front-end@1.0.0"
    },
    "orig_nbformat": 4,
    "vscode": {
      "interpreter": {
        "hash": "369f2c481f4da34e4445cda3fffd2e751bd1c4d706f27375911949ba6bb62e1c"
      }
    }
  },
  "nbformat": 4,
  "nbformat_minor": 2
}
